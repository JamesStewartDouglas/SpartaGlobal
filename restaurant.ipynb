{
 "cells": [
  {
   "cell_type": "code",
   "execution_count": 78,
   "id": "2b321e3b",
   "metadata": {},
   "outputs": [],
   "source": [
    "class Table():\n",
    "    def __init__(self, group):\n",
    "        self.group = group\n",
    "        self.bill = []\n",
    "        \n",
    "    def order(self, item_name:str, price:float, quantity:int):\n",
    "        new_item = {\n",
    "            'item': item_name,\n",
    "            'price': price,\n",
    "            'quantity': quantity\n",
    "        }\n",
    "        \n",
    "        is_new_item = True\n",
    "        for bill_item in self.bill:\n",
    "            if bill_item['item'] == new_item['item']:\n",
    "                bill_item['quantity'] += new_item['quantity']\n",
    "                is_new_item = False\n",
    "        \n",
    "        if is_new_item == True:\n",
    "            self.bill.append(new_item)\n",
    "            \n",
    "    def remove(self, item_name:str, price:float, quantity:int):\n",
    "        new_item = {\n",
    "            'item': item_name,\n",
    "            'price': price,\n",
    "            'quantity': quantity\n",
    "        }\n",
    "        \n",
    "        for bill_item in self.bill:\n",
    "            if bill_item['item'] == new_item['item']:\n",
    "                bill_item['quantity'] -= new_item['quantity']\n",
    "                if bill_item['quantity'] <= 0:\n",
    "                    self.bill.remove(bill_item)\n",
    "                    \n",
    "    def get_subtotal(self):\n",
    "        subtotal = 0\n",
    "        for bill_item in self.bill:\n",
    "            subtotal += bill_item['price'] * bill_item['quantity']\n",
    "            \n",
    "        return round(subtotal, 2)\n",
    "    \n",
    "    def get_total(self, service_charge_percent:float = 0.10):\n",
    "        subtotal = self.get_subtotal()\n",
    "        service_charge = round(subtotal * service_charge_percent, 2)\n",
    "        total = round(subtotal + service_charge, 2)\n",
    "        \n",
    "        return {\n",
    "            'Sub Total': f'£{subtotal}',\n",
    "            'Service Charge': f'£{service_charge}',\n",
    "            'Total': f'£{total}'\n",
    "        }\n",
    "    \n",
    "    def split_bill(self):\n",
    "        subtotal = self.get_subtotal()\n",
    "        split_total = round(subtotal / self.group)\n",
    "        \n",
    "        return split_total"
   ]
  },
  {
   "cell_type": "code",
   "execution_count": 79,
   "id": "7c8d96f4",
   "metadata": {
    "scrolled": true
   },
   "outputs": [
    {
     "name": "stdout",
     "output_type": "stream",
     "text": [
      "[{'item': 'Risotto', 'price': 12.5, 'quantity': 2}]\n",
      "[{'item': 'Risotto', 'price': 12.5, 'quantity': 2}, {'item': 'Burrito', 'price': 20.43, 'quantity': 1}]\n",
      "45.43\n",
      "{'Sub Total': '£45.43', 'Service Charge': '£6.81', 'Total': '£52.24'}\n",
      "9\n"
     ]
    }
   ],
   "source": [
    "table01 = Table(5)\n",
    "table01.order(\"Risotto\", 12.50, 2)\n",
    "print(table01.bill)\n",
    "table01.order(\"Burrito\", 20.43, 3)\n",
    "table01.remove(\"Burrito\", 20.43, 2)\n",
    "print(table01.bill)\n",
    "print(table01.get_subtotal())\n",
    "print(table01.get_total(0.15))\n",
    "print(table01.split_bill())"
   ]
  }
 ],
 "metadata": {
  "kernelspec": {
   "display_name": "Python 3",
   "language": "python",
   "name": "python3"
  },
  "language_info": {
   "codemirror_mode": {
    "name": "ipython",
    "version": 3
   },
   "file_extension": ".py",
   "mimetype": "text/x-python",
   "name": "python",
   "nbconvert_exporter": "python",
   "pygments_lexer": "ipython3",
   "version": "3.8.8"
  }
 },
 "nbformat": 4,
 "nbformat_minor": 5
}
