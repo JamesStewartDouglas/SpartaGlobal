{
 "cells": [
  {
   "cell_type": "code",
   "execution_count": 1,
   "id": "bf801404",
   "metadata": {},
   "outputs": [],
   "source": [
    "import json\n",
    "import requests\n",
    "import pymongo\n",
    "from ast import literal_eval"
   ]
  },
  {
   "cell_type": "code",
   "execution_count": 2,
   "id": "9980c879",
   "metadata": {
    "scrolled": true
   },
   "outputs": [
    {
     "data": {
      "text/plain": [
       "{'name': 'Millennium Falcon',\n",
       " 'model': 'YT-1300 light freighter',\n",
       " 'manufacturer': 'Corellian Engineering Corporation',\n",
       " 'cost_in_credits': '100000',\n",
       " 'length': '34.37',\n",
       " 'max_atmosphering_speed': '1050',\n",
       " 'crew': '4',\n",
       " 'passengers': '6',\n",
       " 'cargo_capacity': '100000',\n",
       " 'consumables': '2 months',\n",
       " 'hyperdrive_rating': '0.5',\n",
       " 'MGLT': '75',\n",
       " 'starship_class': 'Light freighter',\n",
       " 'pilots': ['https://swapi.dev/api/people/13/',\n",
       "  'https://swapi.dev/api/people/14/',\n",
       "  'https://swapi.dev/api/people/25/',\n",
       "  'https://swapi.dev/api/people/31/'],\n",
       " 'films': ['https://swapi.dev/api/films/1/',\n",
       "  'https://swapi.dev/api/films/2/',\n",
       "  'https://swapi.dev/api/films/3/'],\n",
       " 'created': '2014-12-10T16:59:45.094000Z',\n",
       " 'edited': '2014-12-20T21:23:49.880000Z',\n",
       " 'url': 'https://swapi.dev/api/starships/10/'}"
      ]
     },
     "execution_count": 2,
     "metadata": {},
     "output_type": "execute_result"
    }
   ],
   "source": [
    "#Get starship\n",
    "\n",
    "def get_starship(index:int):\n",
    "    starship = requests.get(f'https://swapi.dev/api/starships/{index}/')\n",
    "    starship = literal_eval(starship.content.decode('utf-8'))\n",
    "    return starship\n",
    "\n",
    "starship = get_starship(10)\n",
    "starship"
   ]
  },
  {
   "cell_type": "code",
   "execution_count": 3,
   "id": "e4bbbb23",
   "metadata": {},
   "outputs": [
    {
     "data": {
      "text/plain": [
       "['Chewbacca', 'Han Solo', 'Lando Calrissian', 'Nien Nunb']"
      ]
     },
     "execution_count": 3,
     "metadata": {},
     "output_type": "execute_result"
    }
   ],
   "source": [
    "#Get pilots' names\n",
    "\n",
    "def get_pilots(starship:dict):\n",
    "    pilots = []\n",
    "    for p in starship['pilots']:\n",
    "        pilot = requests.get(p)\n",
    "        pilot = literal_eval(pilot.content.decode('utf-8'))\n",
    "        pilots.append(pilot['name'])\n",
    "    return pilots\n",
    "\n",
    "names = get_pilots(starship)\n",
    "names"
   ]
  },
  {
   "cell_type": "code",
   "execution_count": 4,
   "id": "0a61dd51",
   "metadata": {
    "scrolled": true
   },
   "outputs": [
    {
     "data": {
      "text/plain": [
       "[ObjectId('6479a6779d51f8bbf5ca6d17'),\n",
       " ObjectId('6479a683f9c19b6633a8651e'),\n",
       " ObjectId('6479a68abd58852807e2efc5'),\n",
       " ObjectId('6479a690662041e2295266c1')]"
      ]
     },
     "execution_count": 4,
     "metadata": {},
     "output_type": "execute_result"
    }
   ],
   "source": [
    "#Get object id of name\n",
    "\n",
    "def get_obj_id(names:list):\n",
    "    client = pymongo.MongoClient()\n",
    "    db = client['starwars']\n",
    "    \n",
    "    ids = []\n",
    "    for n in names:\n",
    "        find = {'name':n}\n",
    "        filt = {'_id':1}\n",
    "        obj_id = db.characters.find(find, filt)\n",
    "        for o in obj_id:\n",
    "            ids.append(o['_id'])\n",
    "            \n",
    "    return ids\n",
    "\n",
    "obj_ids = get_obj_id(names)\n",
    "obj_ids"
   ]
  },
  {
   "cell_type": "code",
   "execution_count": 5,
   "id": "7a46d2f9",
   "metadata": {
    "scrolled": true
   },
   "outputs": [
    {
     "data": {
      "text/plain": [
       "{'name': 'Millennium Falcon',\n",
       " 'model': 'YT-1300 light freighter',\n",
       " 'manufacturer': 'Corellian Engineering Corporation',\n",
       " 'cost_in_credits': '100000',\n",
       " 'length': '34.37',\n",
       " 'max_atmosphering_speed': '1050',\n",
       " 'crew': '4',\n",
       " 'passengers': '6',\n",
       " 'cargo_capacity': '100000',\n",
       " 'consumables': '2 months',\n",
       " 'hyperdrive_rating': '0.5',\n",
       " 'MGLT': '75',\n",
       " 'starship_class': 'Light freighter',\n",
       " 'pilots': [ObjectId('6479a6779d51f8bbf5ca6d17'),\n",
       "  ObjectId('6479a683f9c19b6633a8651e'),\n",
       "  ObjectId('6479a68abd58852807e2efc5'),\n",
       "  ObjectId('6479a690662041e2295266c1')],\n",
       " 'films': ['https://swapi.dev/api/films/1/',\n",
       "  'https://swapi.dev/api/films/2/',\n",
       "  'https://swapi.dev/api/films/3/'],\n",
       " 'created': '2014-12-10T16:59:45.094000Z',\n",
       " 'edited': '2014-12-20T21:23:49.880000Z',\n",
       " 'url': 'https://swapi.dev/api/starships/10/'}"
      ]
     },
     "execution_count": 5,
     "metadata": {},
     "output_type": "execute_result"
    }
   ],
   "source": [
    "#Change object id.\n",
    "\n",
    "starship['pilots'] = obj_ids\n",
    "starship"
   ]
  },
  {
   "cell_type": "code",
   "execution_count": 6,
   "id": "6ff1e6ff",
   "metadata": {
    "scrolled": true
   },
   "outputs": [
    {
     "data": {
      "text/plain": [
       "[2,\n",
       " 3,\n",
       " 5,\n",
       " 9,\n",
       " 10,\n",
       " 11,\n",
       " 12,\n",
       " 13,\n",
       " 15,\n",
       " 17,\n",
       " 21,\n",
       " 22,\n",
       " 23,\n",
       " 27,\n",
       " 28,\n",
       " 29,\n",
       " 31,\n",
       " 32,\n",
       " 39,\n",
       " 40,\n",
       " 41,\n",
       " 43,\n",
       " 47,\n",
       " 48,\n",
       " 49,\n",
       " 52,\n",
       " 58,\n",
       " 59,\n",
       " 61,\n",
       " 63,\n",
       " 64,\n",
       " 65,\n",
       " 66,\n",
       " 68,\n",
       " 74,\n",
       " 75]"
      ]
     },
     "execution_count": 6,
     "metadata": {},
     "output_type": "execute_result"
    }
   ],
   "source": [
    "#Repeat over list.\n",
    "#Find existing indices.\n",
    "\n",
    "indices = []\n",
    "for i in range(1, 76):\n",
    "    req = requests.get(f'https://swapi.dev/api/starships/{i}/')\n",
    "    req = literal_eval(req.content.decode('utf-8'))\n",
    "    if str(req) != \"{'detail': 'Not found'}\":\n",
    "        indices.append(i)\n",
    "        \n",
    "indices"
   ]
  },
  {
   "cell_type": "code",
   "execution_count": 7,
   "id": "82ccaaf5",
   "metadata": {
    "scrolled": true
   },
   "outputs": [
    {
     "name": "stdout",
     "output_type": "stream",
     "text": [
      "[] \n",
      "\n",
      "[] \n",
      "\n",
      "[] \n",
      "\n",
      "[] \n",
      "\n",
      "[ObjectId('6479a6779d51f8bbf5ca6d17'), ObjectId('6479a683f9c19b6633a8651e'), ObjectId('6479a68abd58852807e2efc5'), ObjectId('6479a690662041e2295266c1')] \n",
      "\n",
      "[] \n",
      "\n",
      "[ObjectId('6479a68d8ba117444c3bea07'), ObjectId('6479a6731b49935d2c2b0046'), ObjectId('6479a6a8e64cbb7792c7ec6b'), ObjectId('6479a6871ca481cc6211b83e')] \n",
      "\n",
      "[ObjectId('6479a67a10312a7cd86300f5')] \n",
      "\n",
      "[] \n",
      "\n",
      "[] \n",
      "\n",
      "[ObjectId('6479a67406d7bca84b60255f')] \n",
      "\n",
      "[ObjectId('6479a68d8ba117444c3bea07'), ObjectId('6479a6779d51f8bbf5ca6d17'), ObjectId('6479a683f9c19b6633a8651e')] \n",
      "\n",
      "[] \n",
      "\n",
      "[] \n",
      "\n",
      "[ObjectId('6479a66dbf4e0cf01b38e7b4')] \n",
      "\n",
      "[] \n",
      "\n",
      "[] \n",
      "\n",
      "[] \n",
      "\n",
      "[ObjectId('6479a66c098ead39a59b0a37'), ObjectId('6479a69425986342258aa096'), ObjectId('6479a6819eff1aac02748fcf')] \n",
      "\n",
      "[ObjectId('6479a69d28a5775ef46554ce')] \n",
      "\n",
      "[ObjectId('6479a679590d44ed7e9a00bf')] \n",
      "\n",
      "[] \n",
      "\n",
      "[] \n",
      "\n",
      "[ObjectId('6479a692fb61636066ce3767'), ObjectId('6479a695d3d7212a19540bbe')] \n",
      "\n",
      "[ObjectId('6479a69425986342258aa096')] \n",
      "\n",
      "[] \n",
      "\n",
      "[] \n",
      "\n",
      "[ObjectId('6479a692fb61636066ce3767'), ObjectId('6479a66c098ead39a59b0a37')] \n",
      "\n",
      "[] \n",
      "\n",
      "[] \n",
      "\n",
      "[ObjectId('6479a692fb61636066ce3767'), ObjectId('6479a69425986342258aa096')] \n",
      "\n",
      "[ObjectId('6479a692fb61636066ce3767'), ObjectId('6479a66c098ead39a59b0a37')] \n",
      "\n",
      "[] \n",
      "\n",
      "[] \n",
      "\n",
      "[ObjectId('6479a692fb61636066ce3767'), ObjectId('6479a68220c48b2ca049f401')] \n",
      "\n",
      "[] \n",
      "\n"
     ]
    }
   ],
   "source": [
    "#Repeat over indices\n",
    "\n",
    "updated_starships = []\n",
    "for i in indices:\n",
    "    starship = get_starship(i)\n",
    "    pilots = get_pilots(starship)\n",
    "    obj_ids = get_obj_id(pilots)\n",
    "    starship['pilots'] = obj_ids\n",
    "    updated_starships.append(starship)\n",
    "    \n",
    "for us in updated_starships:\n",
    "    print(us['pilots'], '\\n')"
   ]
  },
  {
   "cell_type": "code",
   "execution_count": 8,
   "id": "1f2bae80",
   "metadata": {
    "scrolled": true
   },
   "outputs": [],
   "source": [
    "#Add preset ids (to prevent pymongo making duplicate documents)\n",
    "\n",
    "for i in range(len(updated_starships)):\n",
    "    updated_starships[i]['_id'] = i+1"
   ]
  },
  {
   "cell_type": "code",
   "execution_count": 9,
   "id": "349bd0ef",
   "metadata": {
    "scrolled": true
   },
   "outputs": [
    {
     "name": "stdout",
     "output_type": "stream",
     "text": [
      "{'_id': 1, 'name': 'CR90 corvette', 'model': 'CR90 corvette', 'manufacturer': 'Corellian Engineering Corporation', 'cost_in_credits': '3500000', 'length': '150', 'max_atmosphering_speed': '950', 'crew': '30-165', 'passengers': '600', 'cargo_capacity': '3000000', 'consumables': '1 year', 'hyperdrive_rating': '2.0', 'MGLT': '60', 'starship_class': 'corvette', 'pilots': [], 'films': ['https://swapi.dev/api/films/1/', 'https://swapi.dev/api/films/3/', 'https://swapi.dev/api/films/6/'], 'created': '2014-12-10T14:20:33.369000Z', 'edited': '2014-12-20T21:23:49.867000Z', 'url': 'https://swapi.dev/api/starships/2/'}\n",
      "{'_id': 2, 'name': 'Star Destroyer', 'model': 'Imperial I-class Star Destroyer', 'manufacturer': 'Kuat Drive Yards', 'cost_in_credits': '150000000', 'length': '1,600', 'max_atmosphering_speed': '975', 'crew': '47,060', 'passengers': 'n/a', 'cargo_capacity': '36000000', 'consumables': '2 years', 'hyperdrive_rating': '2.0', 'MGLT': '60', 'starship_class': 'Star Destroyer', 'pilots': [], 'films': ['https://swapi.dev/api/films/1/', 'https://swapi.dev/api/films/2/', 'https://swapi.dev/api/films/3/'], 'created': '2014-12-10T15:08:19.848000Z', 'edited': '2014-12-20T21:23:49.870000Z', 'url': 'https://swapi.dev/api/starships/3/'}\n",
      "{'_id': 3, 'name': 'Sentinel-class landing craft', 'model': 'Sentinel-class landing craft', 'manufacturer': 'Sienar Fleet Systems, Cyngus Spaceworks', 'cost_in_credits': '240000', 'length': '38', 'max_atmosphering_speed': '1000', 'crew': '5', 'passengers': '75', 'cargo_capacity': '180000', 'consumables': '1 month', 'hyperdrive_rating': '1.0', 'MGLT': '70', 'starship_class': 'landing craft', 'pilots': [], 'films': ['https://swapi.dev/api/films/1/'], 'created': '2014-12-10T15:48:00.586000Z', 'edited': '2014-12-20T21:23:49.873000Z', 'url': 'https://swapi.dev/api/starships/5/'}\n",
      "{'_id': 4, 'name': 'Death Star', 'model': 'DS-1 Orbital Battle Station', 'manufacturer': 'Imperial Department of Military Research, Sienar Fleet Systems', 'cost_in_credits': '1000000000000', 'length': '120000', 'max_atmosphering_speed': 'n/a', 'crew': '342,953', 'passengers': '843,342', 'cargo_capacity': '1000000000000', 'consumables': '3 years', 'hyperdrive_rating': '4.0', 'MGLT': '10', 'starship_class': 'Deep Space Mobile Battlestation', 'pilots': [], 'films': ['https://swapi.dev/api/films/1/'], 'created': '2014-12-10T16:36:50.509000Z', 'edited': '2014-12-20T21:26:24.783000Z', 'url': 'https://swapi.dev/api/starships/9/'}\n",
      "{'_id': 5, 'name': 'Millennium Falcon', 'model': 'YT-1300 light freighter', 'manufacturer': 'Corellian Engineering Corporation', 'cost_in_credits': '100000', 'length': '34.37', 'max_atmosphering_speed': '1050', 'crew': '4', 'passengers': '6', 'cargo_capacity': '100000', 'consumables': '2 months', 'hyperdrive_rating': '0.5', 'MGLT': '75', 'starship_class': 'Light freighter', 'pilots': [ObjectId('6479a6779d51f8bbf5ca6d17'), ObjectId('6479a683f9c19b6633a8651e'), ObjectId('6479a68abd58852807e2efc5'), ObjectId('6479a690662041e2295266c1')], 'films': ['https://swapi.dev/api/films/1/', 'https://swapi.dev/api/films/2/', 'https://swapi.dev/api/films/3/'], 'created': '2014-12-10T16:59:45.094000Z', 'edited': '2014-12-20T21:23:49.880000Z', 'url': 'https://swapi.dev/api/starships/10/'}\n",
      "{'_id': 6, 'name': 'Y-wing', 'model': 'BTL Y-wing', 'manufacturer': 'Koensayr Manufacturing', 'cost_in_credits': '134999', 'length': '14', 'max_atmosphering_speed': '1000km', 'crew': '2', 'passengers': '0', 'cargo_capacity': '110', 'consumables': '1 week', 'hyperdrive_rating': '1.0', 'MGLT': '80', 'starship_class': 'assault starfighter', 'pilots': [], 'films': ['https://swapi.dev/api/films/1/', 'https://swapi.dev/api/films/2/', 'https://swapi.dev/api/films/3/'], 'created': '2014-12-12T11:00:39.817000Z', 'edited': '2014-12-20T21:23:49.883000Z', 'url': 'https://swapi.dev/api/starships/11/'}\n",
      "{'_id': 7, 'name': 'X-wing', 'model': 'T-65 X-wing', 'manufacturer': 'Incom Corporation', 'cost_in_credits': '149999', 'length': '12.5', 'max_atmosphering_speed': '1050', 'crew': '1', 'passengers': '0', 'cargo_capacity': '110', 'consumables': '1 week', 'hyperdrive_rating': '1.0', 'MGLT': '100', 'starship_class': 'Starfighter', 'pilots': [ObjectId('6479a68d8ba117444c3bea07'), ObjectId('6479a6731b49935d2c2b0046'), ObjectId('6479a6a8e64cbb7792c7ec6b'), ObjectId('6479a6871ca481cc6211b83e')], 'films': ['https://swapi.dev/api/films/1/', 'https://swapi.dev/api/films/2/', 'https://swapi.dev/api/films/3/'], 'created': '2014-12-12T11:19:05.340000Z', 'edited': '2014-12-20T21:23:49.886000Z', 'url': 'https://swapi.dev/api/starships/12/'}\n",
      "{'_id': 8, 'name': 'TIE Advanced x1', 'model': 'Twin Ion Engine Advanced x1', 'manufacturer': 'Sienar Fleet Systems', 'cost_in_credits': 'unknown', 'length': '9.2', 'max_atmosphering_speed': '1200', 'crew': '1', 'passengers': '0', 'cargo_capacity': '150', 'consumables': '5 days', 'hyperdrive_rating': '1.0', 'MGLT': '105', 'starship_class': 'Starfighter', 'pilots': [ObjectId('6479a67a10312a7cd86300f5')], 'films': ['https://swapi.dev/api/films/1/'], 'created': '2014-12-12T11:21:32.991000Z', 'edited': '2014-12-20T21:23:49.889000Z', 'url': 'https://swapi.dev/api/starships/13/'}\n",
      "{'_id': 9, 'name': 'Executor', 'model': 'Executor-class star dreadnought', 'manufacturer': 'Kuat Drive Yards, Fondor Shipyards', 'cost_in_credits': '1143350000', 'length': '19000', 'max_atmosphering_speed': 'n/a', 'crew': '279,144', 'passengers': '38000', 'cargo_capacity': '250000000', 'consumables': '6 years', 'hyperdrive_rating': '2.0', 'MGLT': '40', 'starship_class': 'Star dreadnought', 'pilots': [], 'films': ['https://swapi.dev/api/films/2/', 'https://swapi.dev/api/films/3/'], 'created': '2014-12-15T12:31:42.547000Z', 'edited': '2014-12-20T21:23:49.893000Z', 'url': 'https://swapi.dev/api/starships/15/'}\n",
      "{'_id': 10, 'name': 'Rebel transport', 'model': 'GR-75 medium transport', 'manufacturer': 'Gallofree Yards, Inc.', 'cost_in_credits': 'unknown', 'length': '90', 'max_atmosphering_speed': '650', 'crew': '6', 'passengers': '90', 'cargo_capacity': '19000000', 'consumables': '6 months', 'hyperdrive_rating': '4.0', 'MGLT': '20', 'starship_class': 'Medium transport', 'pilots': [], 'films': ['https://swapi.dev/api/films/2/', 'https://swapi.dev/api/films/3/'], 'created': '2014-12-15T12:34:52.264000Z', 'edited': '2014-12-20T21:23:49.895000Z', 'url': 'https://swapi.dev/api/starships/17/'}\n",
      "{'_id': 11, 'name': 'Slave 1', 'model': 'Firespray-31-class patrol and attack', 'manufacturer': 'Kuat Systems Engineering', 'cost_in_credits': 'unknown', 'length': '21.5', 'max_atmosphering_speed': '1000', 'crew': '1', 'passengers': '6', 'cargo_capacity': '70000', 'consumables': '1 month', 'hyperdrive_rating': '3.0', 'MGLT': '70', 'starship_class': 'Patrol craft', 'pilots': [ObjectId('6479a67406d7bca84b60255f')], 'films': ['https://swapi.dev/api/films/2/', 'https://swapi.dev/api/films/5/'], 'created': '2014-12-15T13:00:56.332000Z', 'edited': '2014-12-20T21:23:49.897000Z', 'url': 'https://swapi.dev/api/starships/21/'}\n",
      "{'_id': 12, 'name': 'Imperial shuttle', 'model': 'Lambda-class T-4a shuttle', 'manufacturer': 'Sienar Fleet Systems', 'cost_in_credits': '240000', 'length': '20', 'max_atmosphering_speed': '850', 'crew': '6', 'passengers': '20', 'cargo_capacity': '80000', 'consumables': '2 months', 'hyperdrive_rating': '1.0', 'MGLT': '50', 'starship_class': 'Armed government transport', 'pilots': [ObjectId('6479a68d8ba117444c3bea07'), ObjectId('6479a6779d51f8bbf5ca6d17'), ObjectId('6479a683f9c19b6633a8651e')], 'films': ['https://swapi.dev/api/films/2/', 'https://swapi.dev/api/films/3/'], 'created': '2014-12-15T13:04:47.235000Z', 'edited': '2014-12-20T21:23:49.900000Z', 'url': 'https://swapi.dev/api/starships/22/'}\n",
      "{'_id': 13, 'name': 'EF76 Nebulon-B escort frigate', 'model': 'EF76 Nebulon-B escort frigate', 'manufacturer': 'Kuat Drive Yards', 'cost_in_credits': '8500000', 'length': '300', 'max_atmosphering_speed': '800', 'crew': '854', 'passengers': '75', 'cargo_capacity': '6000000', 'consumables': '2 years', 'hyperdrive_rating': '2.0', 'MGLT': '40', 'starship_class': 'Escort ship', 'pilots': [], 'films': ['https://swapi.dev/api/films/2/', 'https://swapi.dev/api/films/3/'], 'created': '2014-12-15T13:06:30.813000Z', 'edited': '2014-12-20T21:23:49.902000Z', 'url': 'https://swapi.dev/api/starships/23/'}\n",
      "{'_id': 14, 'name': 'Calamari Cruiser', 'model': 'MC80 Liberty type Star Cruiser', 'manufacturer': 'Mon Calamari shipyards', 'cost_in_credits': '104000000', 'length': '1200', 'max_atmosphering_speed': 'n/a', 'crew': '5400', 'passengers': '1200', 'cargo_capacity': 'unknown', 'consumables': '2 years', 'hyperdrive_rating': '1.0', 'MGLT': '60', 'starship_class': 'Star Cruiser', 'pilots': [], 'films': ['https://swapi.dev/api/films/3/'], 'created': '2014-12-18T10:54:57.804000Z', 'edited': '2014-12-20T21:23:49.904000Z', 'url': 'https://swapi.dev/api/starships/27/'}\n",
      "{'_id': 15, 'name': 'A-wing', 'model': 'RZ-1 A-wing Interceptor', 'manufacturer': 'Alliance Underground Engineering, Incom Corporation', 'cost_in_credits': '175000', 'length': '9.6', 'max_atmosphering_speed': '1300', 'crew': '1', 'passengers': '0', 'cargo_capacity': '40', 'consumables': '1 week', 'hyperdrive_rating': '1.0', 'MGLT': '120', 'starship_class': 'Starfighter', 'pilots': [ObjectId('6479a66dbf4e0cf01b38e7b4')], 'films': ['https://swapi.dev/api/films/3/'], 'created': '2014-12-18T11:16:34.542000Z', 'edited': '2014-12-20T21:23:49.907000Z', 'url': 'https://swapi.dev/api/starships/28/'}\n",
      "{'_id': 16, 'name': 'B-wing', 'model': 'A/SF-01 B-wing starfighter', 'manufacturer': 'Slayn & Korpil', 'cost_in_credits': '220000', 'length': '16.9', 'max_atmosphering_speed': '950', 'crew': '1', 'passengers': '0', 'cargo_capacity': '45', 'consumables': '1 week', 'hyperdrive_rating': '2.0', 'MGLT': '91', 'starship_class': 'Assault Starfighter', 'pilots': [], 'films': ['https://swapi.dev/api/films/3/'], 'created': '2014-12-18T11:18:04.763000Z', 'edited': '2014-12-20T21:23:49.909000Z', 'url': 'https://swapi.dev/api/starships/29/'}\n",
      "{'_id': 17, 'name': 'Republic Cruiser', 'model': 'Consular-class cruiser', 'manufacturer': 'Corellian Engineering Corporation', 'cost_in_credits': 'unknown', 'length': '115', 'max_atmosphering_speed': '900', 'crew': '9', 'passengers': '16', 'cargo_capacity': 'unknown', 'consumables': 'unknown', 'hyperdrive_rating': '2.0', 'MGLT': 'unknown', 'starship_class': 'Space cruiser', 'pilots': [], 'films': ['https://swapi.dev/api/films/4/'], 'created': '2014-12-19T17:01:31.488000Z', 'edited': '2014-12-20T21:23:49.912000Z', 'url': 'https://swapi.dev/api/starships/31/'}\n",
      "{'_id': 18, 'name': 'Droid control ship', 'model': 'Lucrehulk-class Droid Control Ship', 'manufacturer': 'Hoersch-Kessel Drive, Inc.', 'cost_in_credits': 'unknown', 'length': '3170', 'max_atmosphering_speed': 'n/a', 'crew': '175', 'passengers': '139000', 'cargo_capacity': '4000000000', 'consumables': '500 days', 'hyperdrive_rating': '2.0', 'MGLT': 'unknown', 'starship_class': 'Droid control ship', 'pilots': [], 'films': ['https://swapi.dev/api/films/4/', 'https://swapi.dev/api/films/5/', 'https://swapi.dev/api/films/6/'], 'created': '2014-12-19T17:04:06.323000Z', 'edited': '2014-12-20T21:23:49.915000Z', 'url': 'https://swapi.dev/api/starships/32/'}\n",
      "{'_id': 19, 'name': 'Naboo fighter', 'model': 'N-1 starfighter', 'manufacturer': 'Theed Palace Space Vessel Engineering Corps', 'cost_in_credits': '200000', 'length': '11', 'max_atmosphering_speed': '1100', 'crew': '1', 'passengers': '0', 'cargo_capacity': '65', 'consumables': '7 days', 'hyperdrive_rating': '1.0', 'MGLT': 'unknown', 'starship_class': 'Starfighter', 'pilots': [ObjectId('6479a66c098ead39a59b0a37'), ObjectId('6479a69425986342258aa096'), ObjectId('6479a6819eff1aac02748fcf')], 'films': ['https://swapi.dev/api/films/4/', 'https://swapi.dev/api/films/5/'], 'created': '2014-12-19T17:39:17.582000Z', 'edited': '2014-12-20T21:23:49.917000Z', 'url': 'https://swapi.dev/api/starships/39/'}\n",
      "{'_id': 20, 'name': 'Naboo Royal Starship', 'model': 'J-type 327 Nubian royal starship', 'manufacturer': 'Theed Palace Space Vessel Engineering Corps, Nubia Star Drives', 'cost_in_credits': 'unknown', 'length': '76', 'max_atmosphering_speed': '920', 'crew': '8', 'passengers': 'unknown', 'cargo_capacity': 'unknown', 'consumables': 'unknown', 'hyperdrive_rating': '1.8', 'MGLT': 'unknown', 'starship_class': 'yacht', 'pilots': [ObjectId('6479a69d28a5775ef46554ce')], 'films': ['https://swapi.dev/api/films/4/'], 'created': '2014-12-19T17:45:03.506000Z', 'edited': '2014-12-20T21:23:49.919000Z', 'url': 'https://swapi.dev/api/starships/40/'}\n",
      "{'_id': 21, 'name': 'Scimitar', 'model': 'Star Courier', 'manufacturer': 'Republic Sienar Systems', 'cost_in_credits': '55000000', 'length': '26.5', 'max_atmosphering_speed': '1180', 'crew': '1', 'passengers': '6', 'cargo_capacity': '2500000', 'consumables': '30 days', 'hyperdrive_rating': '1.5', 'MGLT': 'unknown', 'starship_class': 'Space Transport', 'pilots': [ObjectId('6479a679590d44ed7e9a00bf')], 'films': ['https://swapi.dev/api/films/4/'], 'created': '2014-12-20T09:39:56.116000Z', 'edited': '2014-12-20T21:23:49.922000Z', 'url': 'https://swapi.dev/api/starships/41/'}\n",
      "{'_id': 22, 'name': 'J-type diplomatic barge', 'model': 'J-type diplomatic barge', 'manufacturer': 'Theed Palace Space Vessel Engineering Corps, Nubia Star Drives', 'cost_in_credits': '2000000', 'length': '39', 'max_atmosphering_speed': '2000', 'crew': '5', 'passengers': '10', 'cargo_capacity': 'unknown', 'consumables': '1 year', 'hyperdrive_rating': '0.7', 'MGLT': 'unknown', 'starship_class': 'Diplomatic barge', 'pilots': [], 'films': ['https://swapi.dev/api/films/5/'], 'created': '2014-12-20T11:05:51.237000Z', 'edited': '2014-12-20T21:23:49.925000Z', 'url': 'https://swapi.dev/api/starships/43/'}\n",
      "{'_id': 23, 'name': 'AA-9 Coruscant freighter', 'model': 'Botajef AA-9 Freighter-Liner', 'manufacturer': 'Botajef Shipyards', 'cost_in_credits': 'unknown', 'length': '390', 'max_atmosphering_speed': 'unknown', 'crew': 'unknown', 'passengers': '30000', 'cargo_capacity': 'unknown', 'consumables': 'unknown', 'hyperdrive_rating': 'unknown', 'MGLT': 'unknown', 'starship_class': 'freighter', 'pilots': [], 'films': ['https://swapi.dev/api/films/5/'], 'created': '2014-12-20T17:24:23.509000Z', 'edited': '2014-12-20T21:23:49.928000Z', 'url': 'https://swapi.dev/api/starships/47/'}\n",
      "{'_id': 24, 'name': 'Jedi starfighter', 'model': 'Delta-7 Aethersprite-class interceptor', 'manufacturer': 'Kuat Systems Engineering', 'cost_in_credits': '180000', 'length': '8', 'max_atmosphering_speed': '1150', 'crew': '1', 'passengers': '0', 'cargo_capacity': '60', 'consumables': '7 days', 'hyperdrive_rating': '1.0', 'MGLT': 'unknown', 'starship_class': 'Starfighter', 'pilots': [ObjectId('6479a692fb61636066ce3767'), ObjectId('6479a695d3d7212a19540bbe')], 'films': ['https://swapi.dev/api/films/5/', 'https://swapi.dev/api/films/6/'], 'created': '2014-12-20T17:35:23.906000Z', 'edited': '2014-12-20T21:23:49.930000Z', 'url': 'https://swapi.dev/api/starships/48/'}\n",
      "{'_id': 25, 'name': 'H-type Nubian yacht', 'model': 'H-type Nubian yacht', 'manufacturer': 'Theed Palace Space Vessel Engineering Corps', 'cost_in_credits': 'unknown', 'length': '47.9', 'max_atmosphering_speed': '8000', 'crew': '4', 'passengers': 'unknown', 'cargo_capacity': 'unknown', 'consumables': 'unknown', 'hyperdrive_rating': '0.9', 'MGLT': 'unknown', 'starship_class': 'yacht', 'pilots': [ObjectId('6479a69425986342258aa096')], 'films': ['https://swapi.dev/api/films/5/'], 'created': '2014-12-20T17:46:46.847000Z', 'edited': '2014-12-20T21:23:49.932000Z', 'url': 'https://swapi.dev/api/starships/49/'}\n",
      "{'_id': 26, 'name': 'Republic Assault ship', 'model': 'Acclamator I-class assault ship', 'manufacturer': 'Rothana Heavy Engineering', 'cost_in_credits': 'unknown', 'length': '752', 'max_atmosphering_speed': 'unknown', 'crew': '700', 'passengers': '16000', 'cargo_capacity': '11250000', 'consumables': '2 years', 'hyperdrive_rating': '0.6', 'MGLT': 'unknown', 'starship_class': 'assault ship', 'pilots': [], 'films': ['https://swapi.dev/api/films/5/'], 'created': '2014-12-20T18:08:42.926000Z', 'edited': '2014-12-20T21:23:49.935000Z', 'url': 'https://swapi.dev/api/starships/52/'}\n",
      "{'_id': 27, 'name': 'Solar Sailer', 'model': 'Punworcca 116-class interstellar sloop', 'manufacturer': 'Huppla Pasa Tisc Shipwrights Collective', 'cost_in_credits': '35700', 'length': '15.2', 'max_atmosphering_speed': '1600', 'crew': '3', 'passengers': '11', 'cargo_capacity': '240', 'consumables': '7 days', 'hyperdrive_rating': '1.5', 'MGLT': 'unknown', 'starship_class': 'yacht', 'pilots': [], 'films': ['https://swapi.dev/api/films/5/'], 'created': '2014-12-20T18:37:56.969000Z', 'edited': '2014-12-20T21:23:49.937000Z', 'url': 'https://swapi.dev/api/starships/58/'}\n",
      "{'_id': 28, 'name': 'Trade Federation cruiser', 'model': 'Providence-class carrier/destroyer', 'manufacturer': 'Rendili StarDrive, Free Dac Volunteers Engineering corps.', 'cost_in_credits': '125000000', 'length': '1088', 'max_atmosphering_speed': '1050', 'crew': '600', 'passengers': '48247', 'cargo_capacity': '50000000', 'consumables': '4 years', 'hyperdrive_rating': '1.5', 'MGLT': 'unknown', 'starship_class': 'capital ship', 'pilots': [ObjectId('6479a692fb61636066ce3767'), ObjectId('6479a66c098ead39a59b0a37')], 'films': ['https://swapi.dev/api/films/6/'], 'created': '2014-12-20T19:40:21.902000Z', 'edited': '2014-12-20T21:23:49.941000Z', 'url': 'https://swapi.dev/api/starships/59/'}\n",
      "{'_id': 29, 'name': 'Theta-class T-2c shuttle', 'model': 'Theta-class T-2c shuttle', 'manufacturer': 'Cygnus Spaceworks', 'cost_in_credits': '1000000', 'length': '18.5', 'max_atmosphering_speed': '2000', 'crew': '5', 'passengers': '16', 'cargo_capacity': '50000', 'consumables': '56 days', 'hyperdrive_rating': '1.0', 'MGLT': 'unknown', 'starship_class': 'transport', 'pilots': [], 'films': ['https://swapi.dev/api/films/6/'], 'created': '2014-12-20T19:48:40.409000Z', 'edited': '2014-12-20T21:23:49.944000Z', 'url': 'https://swapi.dev/api/starships/61/'}\n",
      "{'_id': 30, 'name': 'Republic attack cruiser', 'model': 'Senator-class Star Destroyer', 'manufacturer': 'Kuat Drive Yards, Allanteen Six shipyards', 'cost_in_credits': '59000000', 'length': '1137', 'max_atmosphering_speed': '975', 'crew': '7400', 'passengers': '2000', 'cargo_capacity': '20000000', 'consumables': '2 years', 'hyperdrive_rating': '1.0', 'MGLT': 'unknown', 'starship_class': 'star destroyer', 'pilots': [], 'films': ['https://swapi.dev/api/films/6/'], 'created': '2014-12-20T19:52:56.232000Z', 'edited': '2014-12-20T21:23:49.946000Z', 'url': 'https://swapi.dev/api/starships/63/'}\n",
      "{'_id': 31, 'name': 'Naboo star skiff', 'model': 'J-type star skiff', 'manufacturer': 'Theed Palace Space Vessel Engineering Corps/Nubia Star Drives, Incorporated', 'cost_in_credits': 'unknown', 'length': '29.2', 'max_atmosphering_speed': '1050', 'crew': '3', 'passengers': '3', 'cargo_capacity': 'unknown', 'consumables': 'unknown', 'hyperdrive_rating': '0.5', 'MGLT': 'unknown', 'starship_class': 'yacht', 'pilots': [ObjectId('6479a692fb61636066ce3767'), ObjectId('6479a69425986342258aa096')], 'films': ['https://swapi.dev/api/films/6/'], 'created': '2014-12-20T19:55:15.396000Z', 'edited': '2014-12-20T21:23:49.948000Z', 'url': 'https://swapi.dev/api/starships/64/'}\n",
      "{'_id': 32, 'name': 'Jedi Interceptor', 'model': 'Eta-2 Actis-class light interceptor', 'manufacturer': 'Kuat Systems Engineering', 'cost_in_credits': '320000', 'length': '5.47', 'max_atmosphering_speed': '1500', 'crew': '1', 'passengers': '0', 'cargo_capacity': '60', 'consumables': '2 days', 'hyperdrive_rating': '1.0', 'MGLT': 'unknown', 'starship_class': 'starfighter', 'pilots': [ObjectId('6479a692fb61636066ce3767'), ObjectId('6479a66c098ead39a59b0a37')], 'films': ['https://swapi.dev/api/films/6/'], 'created': '2014-12-20T19:56:57.468000Z', 'edited': '2014-12-20T21:23:49.951000Z', 'url': 'https://swapi.dev/api/starships/65/'}\n",
      "{'_id': 33, 'name': 'arc-170', 'model': 'Aggressive Reconnaissance-170 starfighte', 'manufacturer': 'Incom Corporation, Subpro Corporation', 'cost_in_credits': '155000', 'length': '14.5', 'max_atmosphering_speed': '1000', 'crew': '3', 'passengers': '0', 'cargo_capacity': '110', 'consumables': '5 days', 'hyperdrive_rating': '1.0', 'MGLT': '100', 'starship_class': 'starfighter', 'pilots': [], 'films': ['https://swapi.dev/api/films/6/'], 'created': '2014-12-20T20:03:48.603000Z', 'edited': '2014-12-20T21:23:49.953000Z', 'url': 'https://swapi.dev/api/starships/66/'}\n",
      "{'_id': 34, 'name': 'Banking clan frigte', 'model': 'Munificent-class star frigate', 'manufacturer': 'Hoersch-Kessel Drive, Inc, Gwori Revolutionary Industries', 'cost_in_credits': '57000000', 'length': '825', 'max_atmosphering_speed': 'unknown', 'crew': '200', 'passengers': 'unknown', 'cargo_capacity': '40000000', 'consumables': '2 years', 'hyperdrive_rating': '1.0', 'MGLT': 'unknown', 'starship_class': 'cruiser', 'pilots': [], 'films': ['https://swapi.dev/api/films/6/'], 'created': '2014-12-20T20:07:11.538000Z', 'edited': '2014-12-20T21:23:49.956000Z', 'url': 'https://swapi.dev/api/starships/68/'}\n",
      "{'_id': 35, 'name': 'Belbullab-22 starfighter', 'model': 'Belbullab-22 starfighter', 'manufacturer': 'Feethan Ottraw Scalable Assemblies', 'cost_in_credits': '168000', 'length': '6.71', 'max_atmosphering_speed': '1100', 'crew': '1', 'passengers': '0', 'cargo_capacity': '140', 'consumables': '7 days', 'hyperdrive_rating': '6', 'MGLT': 'unknown', 'starship_class': 'starfighter', 'pilots': [ObjectId('6479a692fb61636066ce3767'), ObjectId('6479a68220c48b2ca049f401')], 'films': ['https://swapi.dev/api/films/6/'], 'created': '2014-12-20T20:38:05.031000Z', 'edited': '2014-12-20T21:23:49.959000Z', 'url': 'https://swapi.dev/api/starships/74/'}\n",
      "{'_id': 36, 'name': 'V-wing', 'model': 'Alpha-3 Nimbus-class V-wing starfighter', 'manufacturer': 'Kuat Systems Engineering', 'cost_in_credits': '102500', 'length': '7.9', 'max_atmosphering_speed': '1050', 'crew': '1', 'passengers': '0', 'cargo_capacity': '60', 'consumables': '15 hours', 'hyperdrive_rating': '1.0', 'MGLT': 'unknown', 'starship_class': 'starfighter', 'pilots': [], 'films': ['https://swapi.dev/api/films/6/'], 'created': '2014-12-20T20:43:04.349000Z', 'edited': '2014-12-20T21:23:49.961000Z', 'url': 'https://swapi.dev/api/starships/75/'}\n"
     ]
    }
   ],
   "source": [
    "#Insert new documents into starships collection\n",
    "\n",
    "client = pymongo.MongoClient()\n",
    "db = client['starwars']\n",
    "collection = db['starships']\n",
    "\n",
    "if 'starships' not in db.list_collection_names(): #Prevent duplicate documents\n",
    "    insert = collection.insert_many(updated_starships)\n",
    "\n",
    "for doc in collection.find():\n",
    "    print(doc)"
   ]
  },
  {
   "cell_type": "code",
   "execution_count": 10,
   "id": "682e8b30",
   "metadata": {},
   "outputs": [
    {
     "data": {
      "text/plain": [
       "['starships', 'characters']"
      ]
     },
     "execution_count": 10,
     "metadata": {},
     "output_type": "execute_result"
    }
   ],
   "source": [
    "#Final check\n",
    "\n",
    "db.list_collection_names()"
   ]
  }
 ],
 "metadata": {
  "kernelspec": {
   "display_name": "Python 3",
   "language": "python",
   "name": "python3"
  },
  "language_info": {
   "codemirror_mode": {
    "name": "ipython",
    "version": 3
   },
   "file_extension": ".py",
   "mimetype": "text/x-python",
   "name": "python",
   "nbconvert_exporter": "python",
   "pygments_lexer": "ipython3",
   "version": "3.8.8"
  }
 },
 "nbformat": 4,
 "nbformat_minor": 5
}
